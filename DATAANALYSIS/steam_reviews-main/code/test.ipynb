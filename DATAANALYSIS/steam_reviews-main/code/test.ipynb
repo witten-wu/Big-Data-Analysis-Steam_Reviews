{
 "metadata": {
  "language_info": {
   "codemirror_mode": {
    "name": "ipython",
    "version": 3
   },
   "file_extension": ".py",
   "mimetype": "text/x-python",
   "name": "python",
   "nbconvert_exporter": "python",
   "pygments_lexer": "ipython3",
   "version": "3.8.3-final"
  },
  "orig_nbformat": 2,
  "kernelspec": {
   "name": "python383jvsc74a57bd0b3ba2566441a7c06988d0923437866b63cedc61552a5af99d1f4fb67d367b25f",
   "display_name": "Python 3.8.3 64-bit (conda)"
  }
 },
 "nbformat": 4,
 "nbformat_minor": 2,
 "cells": [
  {
   "cell_type": "code",
   "execution_count": 1,
   "metadata": {},
   "outputs": [],
   "source": [
    "import numpy as np\n",
    "from Pipe import Pipe\n",
    "import pandas as pd\n",
    "from tobit import *\n",
    "from utils import *\n",
    "%matplotlib inline"
   ]
  },
  {
   "source": [
    "# 导入csv格式的数据并查看"
   ],
   "cell_type": "markdown",
   "metadata": {}
  },
  {
   "cell_type": "code",
   "execution_count": 2,
   "metadata": {},
   "outputs": [
    {
     "output_type": "execute_result",
     "data": {
      "text/plain": [
       "   0  index  helpfulness review_title  total_hours  diff_date  \\\n",
       "0  0      0           81           推荐          0.7         34   \n",
       "1  1      1           19          不推荐         11.2       1098   \n",
       "2  2      2           13          不推荐         41.4       1226   \n",
       "3  3      3           22           推荐         29.4         52   \n",
       "4  4      4           14           推荐         20.6         26   \n",
       "\n",
       "                                        text_content                user_name  \\\n",
       "0  20190617更新所谓官方，居然恬不知耻的跑到这里来威胁评测者，不仅不懂法律而且恶意威胁，...                     月光疾风   \n",
       "1                                       客服的态度仿佛我杀了他妈                      さに様   \n",
       "2  论坛上那是什么狗币客服   天天怼玩家  有你吗这时间还不如多修修你的BUGsteam上面的...               patriceent   \n",
       "3  这是一篇带有主观看法的评测。 这是一款出色的海战游戏，也是本世代海战游戏的先驱者和奠基人。 ...  Rhonin_Seiei@上次在线：10天以前   \n",
       "4  虽然在出潜艇后我弃坑了，但是不得不说，这是永远永远永远的经典。。。我的童年就是这游戏陪伴我度过的。                    方方小次郎   \n",
       "\n",
       "   game_count  comment_count   xp  review_count  friend_count  \n",
       "0          92              4    0             0             0  \n",
       "1          78              0   50             8            10  \n",
       "2           2              0    0             1             5  \n",
       "3         289              1  500             6            46  \n",
       "4         107              0  100            11            32  "
      ],
      "text/html": "<div>\n<style scoped>\n    .dataframe tbody tr th:only-of-type {\n        vertical-align: middle;\n    }\n\n    .dataframe tbody tr th {\n        vertical-align: top;\n    }\n\n    .dataframe thead th {\n        text-align: right;\n    }\n</style>\n<table border=\"1\" class=\"dataframe\">\n  <thead>\n    <tr style=\"text-align: right;\">\n      <th></th>\n      <th>0</th>\n      <th>index</th>\n      <th>helpfulness</th>\n      <th>review_title</th>\n      <th>total_hours</th>\n      <th>diff_date</th>\n      <th>text_content</th>\n      <th>user_name</th>\n      <th>game_count</th>\n      <th>comment_count</th>\n      <th>xp</th>\n      <th>review_count</th>\n      <th>friend_count</th>\n    </tr>\n  </thead>\n  <tbody>\n    <tr>\n      <th>0</th>\n      <td>0</td>\n      <td>0</td>\n      <td>81</td>\n      <td>推荐</td>\n      <td>0.7</td>\n      <td>34</td>\n      <td>20190617更新所谓官方，居然恬不知耻的跑到这里来威胁评测者，不仅不懂法律而且恶意威胁，...</td>\n      <td>月光疾风</td>\n      <td>92</td>\n      <td>4</td>\n      <td>0</td>\n      <td>0</td>\n      <td>0</td>\n    </tr>\n    <tr>\n      <th>1</th>\n      <td>1</td>\n      <td>1</td>\n      <td>19</td>\n      <td>不推荐</td>\n      <td>11.2</td>\n      <td>1098</td>\n      <td>客服的态度仿佛我杀了他妈</td>\n      <td>さに様</td>\n      <td>78</td>\n      <td>0</td>\n      <td>50</td>\n      <td>8</td>\n      <td>10</td>\n    </tr>\n    <tr>\n      <th>2</th>\n      <td>2</td>\n      <td>2</td>\n      <td>13</td>\n      <td>不推荐</td>\n      <td>41.4</td>\n      <td>1226</td>\n      <td>论坛上那是什么狗币客服   天天怼玩家  有你吗这时间还不如多修修你的BUGsteam上面的...</td>\n      <td>patriceent</td>\n      <td>2</td>\n      <td>0</td>\n      <td>0</td>\n      <td>1</td>\n      <td>5</td>\n    </tr>\n    <tr>\n      <th>3</th>\n      <td>3</td>\n      <td>3</td>\n      <td>22</td>\n      <td>推荐</td>\n      <td>29.4</td>\n      <td>52</td>\n      <td>这是一篇带有主观看法的评测。 这是一款出色的海战游戏，也是本世代海战游戏的先驱者和奠基人。 ...</td>\n      <td>Rhonin_Seiei@上次在线：10天以前</td>\n      <td>289</td>\n      <td>1</td>\n      <td>500</td>\n      <td>6</td>\n      <td>46</td>\n    </tr>\n    <tr>\n      <th>4</th>\n      <td>4</td>\n      <td>4</td>\n      <td>14</td>\n      <td>推荐</td>\n      <td>20.6</td>\n      <td>26</td>\n      <td>虽然在出潜艇后我弃坑了，但是不得不说，这是永远永远永远的经典。。。我的童年就是这游戏陪伴我度过的。</td>\n      <td>方方小次郎</td>\n      <td>107</td>\n      <td>0</td>\n      <td>100</td>\n      <td>11</td>\n      <td>32</td>\n    </tr>\n  </tbody>\n</table>\n</div>"
     },
     "metadata": {},
     "execution_count": 2
    }
   ],
   "source": [
    "path = '../data/minidata.csv'\n",
    "data = read_data(path)\n",
    "data.head()"
   ]
  },
  {
   "source": [
    "# 数据预处理，word2vec，lsa提取主题和坐标"
   ],
   "cell_type": "markdown",
   "metadata": {}
  },
  {
   "cell_type": "code",
   "execution_count": 3,
   "metadata": {},
   "outputs": [],
   "source": [
    "# 停用词的地址\n",
    "stop_words_path = \"../dict/baidu_stopwords.txt\"\n",
    "# 自定义词的地址\n",
    "userdict = \"../dict/userdict.txt\"\n",
    "# 删除所有标点符号，数字和特殊字符\n",
    "pattern = r'[^\\u4e00-\\u9fa5A-Za-z]'\n",
    "# word2vec的参数\n",
    "vec_para = {'token_pattern': r\"(?u)\\b\\w+\\b\", 'max_features': 1000, 'ngram_range': (1, 1)}\n",
    "# lsa的参数，n_components为主题数量\n",
    "lsa_para = {'n_components': 2, 'algorithm': 'randomized', 'n_iter': 100, 'random_state': 122}"
   ]
  },
  {
   "cell_type": "code",
   "execution_count": 4,
   "metadata": {},
   "outputs": [
    {
     "output_type": "stream",
     "name": "stderr",
     "text": [
      "Building prefix dict from the default dictionary ...\n",
      "Loading model from cache C:\\Users\\cyuuu\\AppData\\Local\\Temp\\jieba.cache\n",
      "Loading model cost 0.593 seconds.\n",
      "Prefix dict has been built successfully.\n"
     ]
    }
   ],
   "source": [
    "pipe = Pipe(stop_words_path, pattern, vec_para, lsa_para, userdict)\n",
    "token, X_topics, coordinates, terms = pipe.invoke(data[\"text_content\"])"
   ]
  },
  {
   "cell_type": "code",
   "execution_count": 5,
   "metadata": {},
   "outputs": [],
   "source": [
    "# 保存token\n",
    "save_token_path = \"../result/token.txt\"\n",
    "save_token(save_token_path, token)"
   ]
  },
  {
   "cell_type": "code",
   "execution_count": 6,
   "metadata": {},
   "outputs": [
    {
     "output_type": "stream",
     "name": "stdout",
     "text": [
      "Topic 0: \n游戏 海战 老 玩 经典 玩家 不 \nTopic 1: \n经典 产品 获取 免费 老 海战 延续 \n"
     ]
    }
   ],
   "source": [
    "ouput_topic(terms, pipe.filters[4].svd_model.components_, n=7)"
   ]
  },
  {
   "source": [
    "# 可视化"
   ],
   "cell_type": "markdown",
   "metadata": {}
  },
  {
   "cell_type": "code",
   "execution_count": 7,
   "metadata": {},
   "outputs": [
    {
     "output_type": "display_data",
     "data": {
      "text/plain": "<Figure size 504x360 with 1 Axes>",
      "image/svg+xml": "<?xml version=\"1.0\" encoding=\"utf-8\" standalone=\"no\"?>\r\n<!DOCTYPE svg PUBLIC \"-//W3C//DTD SVG 1.1//EN\"\r\n  \"http://www.w3.org/Graphics/SVG/1.1/DTD/svg11.dtd\">\r\n<!-- Created with matplotlib (https://matplotlib.org/) -->\r\n<svg height=\"305.526716pt\" version=\"1.1\" viewBox=\"0 0 424.725 305.526716\" width=\"424.725pt\" xmlns=\"http://www.w3.org/2000/svg\" xmlns:xlink=\"http://www.w3.org/1999/xlink\">\r\n <defs>\r\n  <style type=\"text/css\">\r\n*{stroke-linecap:butt;stroke-linejoin:round;}\r\n  </style>\r\n </defs>\r\n <g id=\"figure_1\">\r\n  <g id=\"patch_1\">\r\n   <path d=\"M 0 305.526716 \r\nL 424.725 305.526716 \r\nL 424.725 0 \r\nL 0 0 \r\nz\r\n\" style=\"fill:none;\"/>\r\n  </g>\r\n  <g id=\"axes_1\">\r\n   <g id=\"patch_2\">\r\n    <path d=\"M 26.925 281.648591 \r\nL 417.525 281.648591 \r\nL 417.525 9.848591 \r\nL 26.925 9.848591 \r\nz\r\n\" style=\"fill:#ffffff;\"/>\r\n   </g>\r\n   <g id=\"PathCollection_1\">\r\n    <defs>\r\n     <path d=\"M 0 1.581139 \r\nC 0.419323 1.581139 0.821528 1.41454 1.118034 1.118034 \r\nC 1.41454 0.821528 1.581139 0.419323 1.581139 0 \r\nC 1.581139 -0.419323 1.41454 -0.821528 1.118034 -1.118034 \r\nC 0.821528 -1.41454 0.419323 -1.581139 0 -1.581139 \r\nC -0.419323 -1.581139 -0.821528 -1.41454 -1.118034 -1.118034 \r\nC -1.41454 -0.821528 -1.581139 -0.419323 -1.581139 0 \r\nC -1.581139 0.419323 -1.41454 0.821528 -1.118034 1.118034 \r\nC -0.821528 1.41454 -0.419323 1.581139 0 1.581139 \r\nz\r\n\" id=\"C0_0_6f2fe15115\"/>\r\n    </defs>\r\n    <g clip-path=\"url(#p08b5ab0062)\">\r\n     <use style=\"fill:#1f77b4;\" x=\"61.787171\" xlink:href=\"#C0_0_6f2fe15115\" y=\"112.174645\"/>\r\n    </g>\r\n    <g clip-path=\"url(#p08b5ab0062)\">\r\n     <use style=\"fill:#1f77b4;\" x=\"171.055581\" xlink:href=\"#C0_0_6f2fe15115\" y=\"186.833102\"/>\r\n    </g>\r\n    <g clip-path=\"url(#p08b5ab0062)\">\r\n     <use style=\"fill:#1f77b4;\" x=\"116.608865\" xlink:href=\"#C0_0_6f2fe15115\" y=\"116.11151\"/>\r\n    </g>\r\n    <g clip-path=\"url(#p08b5ab0062)\">\r\n     <use style=\"fill:#1f77b4;\" x=\"44.679545\" xlink:href=\"#C0_0_6f2fe15115\" y=\"138.953737\"/>\r\n    </g>\r\n    <g clip-path=\"url(#p08b5ab0062)\">\r\n     <use style=\"fill:#1f77b4;\" x=\"68.107045\" xlink:href=\"#C0_0_6f2fe15115\" y=\"227.32097\"/>\r\n    </g>\r\n    <g clip-path=\"url(#p08b5ab0062)\">\r\n     <use style=\"fill:#1f77b4;\" x=\"94.678864\" xlink:href=\"#C0_0_6f2fe15115\" y=\"123.980919\"/>\r\n    </g>\r\n    <g clip-path=\"url(#p08b5ab0062)\">\r\n     <use style=\"fill:#1f77b4;\" x=\"55.818503\" xlink:href=\"#C0_0_6f2fe15115\" y=\"122.772029\"/>\r\n    </g>\r\n    <g clip-path=\"url(#p08b5ab0062)\">\r\n     <use style=\"fill:#1f77b4;\" x=\"162.608098\" xlink:href=\"#C0_0_6f2fe15115\" y=\"198.765781\"/>\r\n    </g>\r\n    <g clip-path=\"url(#p08b5ab0062)\">\r\n     <use style=\"fill:#1f77b4;\" x=\"84.422043\" xlink:href=\"#C0_0_6f2fe15115\" y=\"121.708411\"/>\r\n    </g>\r\n    <g clip-path=\"url(#p08b5ab0062)\">\r\n     <use style=\"fill:#1f77b4;\" x=\"85.669548\" xlink:href=\"#C0_0_6f2fe15115\" y=\"168.178773\"/>\r\n    </g>\r\n    <g clip-path=\"url(#p08b5ab0062)\">\r\n     <use style=\"fill:#1f77b4;\" x=\"102.93624\" xlink:href=\"#C0_0_6f2fe15115\" y=\"124.513167\"/>\r\n    </g>\r\n    <g clip-path=\"url(#p08b5ab0062)\">\r\n     <use style=\"fill:#1f77b4;\" x=\"125.424268\" xlink:href=\"#C0_0_6f2fe15115\" y=\"156.271635\"/>\r\n    </g>\r\n    <g clip-path=\"url(#p08b5ab0062)\">\r\n     <use style=\"fill:#1f77b4;\" x=\"51.836593\" xlink:href=\"#C0_0_6f2fe15115\" y=\"136.66057\"/>\r\n    </g>\r\n    <g clip-path=\"url(#p08b5ab0062)\">\r\n     <use style=\"fill:#1f77b4;\" x=\"64.15872\" xlink:href=\"#C0_0_6f2fe15115\" y=\"154.156658\"/>\r\n    </g>\r\n    <g clip-path=\"url(#p08b5ab0062)\">\r\n     <use style=\"fill:#1f77b4;\" x=\"118.907352\" xlink:href=\"#C0_0_6f2fe15115\" y=\"147.971418\"/>\r\n    </g>\r\n    <g clip-path=\"url(#p08b5ab0062)\">\r\n     <use style=\"fill:#1f77b4;\" x=\"116.727079\" xlink:href=\"#C0_0_6f2fe15115\" y=\"119.166483\"/>\r\n    </g>\r\n    <g clip-path=\"url(#p08b5ab0062)\">\r\n     <use style=\"fill:#1f77b4;\" x=\"159.725548\" xlink:href=\"#C0_0_6f2fe15115\" y=\"168.080325\"/>\r\n    </g>\r\n    <g clip-path=\"url(#p08b5ab0062)\">\r\n     <use style=\"fill:#1f77b4;\" x=\"69.664877\" xlink:href=\"#C0_0_6f2fe15115\" y=\"106.872704\"/>\r\n    </g>\r\n    <g clip-path=\"url(#p08b5ab0062)\">\r\n     <use style=\"fill:#1f77b4;\" x=\"64.435285\" xlink:href=\"#C0_0_6f2fe15115\" y=\"115.841801\"/>\r\n    </g>\r\n    <g clip-path=\"url(#p08b5ab0062)\">\r\n     <use style=\"fill:#1f77b4;\" x=\"73.044343\" xlink:href=\"#C0_0_6f2fe15115\" y=\"116.358271\"/>\r\n    </g>\r\n    <g clip-path=\"url(#p08b5ab0062)\">\r\n     <use style=\"fill:#1f77b4;\" x=\"62.091427\" xlink:href=\"#C0_0_6f2fe15115\" y=\"244.854151\"/>\r\n    </g>\r\n    <g clip-path=\"url(#p08b5ab0062)\">\r\n     <use style=\"fill:#1f77b4;\" x=\"79.471131\" xlink:href=\"#C0_0_6f2fe15115\" y=\"256.227361\"/>\r\n    </g>\r\n    <g clip-path=\"url(#p08b5ab0062)\">\r\n     <use style=\"fill:#1f77b4;\" x=\"100.634001\" xlink:href=\"#C0_0_6f2fe15115\" y=\"108.619139\"/>\r\n    </g>\r\n    <g clip-path=\"url(#p08b5ab0062)\">\r\n     <use style=\"fill:#1f77b4;\" x=\"139.877395\" xlink:href=\"#C0_0_6f2fe15115\" y=\"143.671532\"/>\r\n    </g>\r\n    <g clip-path=\"url(#p08b5ab0062)\">\r\n     <use style=\"fill:#1f77b4;\" x=\"139.586557\" xlink:href=\"#C0_0_6f2fe15115\" y=\"200.761226\"/>\r\n    </g>\r\n    <g clip-path=\"url(#p08b5ab0062)\">\r\n     <use style=\"fill:#1f77b4;\" x=\"70.527351\" xlink:href=\"#C0_0_6f2fe15115\" y=\"130.241419\"/>\r\n    </g>\r\n    <g clip-path=\"url(#p08b5ab0062)\">\r\n     <use style=\"fill:#1f77b4;\" x=\"67.473547\" xlink:href=\"#C0_0_6f2fe15115\" y=\"144.418185\"/>\r\n    </g>\r\n    <g clip-path=\"url(#p08b5ab0062)\">\r\n     <use style=\"fill:#1f77b4;\" x=\"81.067347\" xlink:href=\"#C0_0_6f2fe15115\" y=\"205.032683\"/>\r\n    </g>\r\n    <g clip-path=\"url(#p08b5ab0062)\">\r\n     <use style=\"fill:#1f77b4;\" x=\"103.083053\" xlink:href=\"#C0_0_6f2fe15115\" y=\"187.738965\"/>\r\n    </g>\r\n    <g clip-path=\"url(#p08b5ab0062)\">\r\n     <use style=\"fill:#1f77b4;\" x=\"169.387485\" xlink:href=\"#C0_0_6f2fe15115\" y=\"182.805942\"/>\r\n    </g>\r\n    <g clip-path=\"url(#p08b5ab0062)\">\r\n     <use style=\"fill:#1f77b4;\" x=\"73.64034\" xlink:href=\"#C0_0_6f2fe15115\" y=\"133.823441\"/>\r\n    </g>\r\n    <g clip-path=\"url(#p08b5ab0062)\">\r\n     <use style=\"fill:#1f77b4;\" x=\"47.749201\" xlink:href=\"#C0_0_6f2fe15115\" y=\"125.118276\"/>\r\n    </g>\r\n    <g clip-path=\"url(#p08b5ab0062)\">\r\n     <use style=\"fill:#1f77b4;\" x=\"50.569153\" xlink:href=\"#C0_0_6f2fe15115\" y=\"218.466108\"/>\r\n    </g>\r\n    <g clip-path=\"url(#p08b5ab0062)\">\r\n     <use style=\"fill:#1f77b4;\" x=\"77.70198\" xlink:href=\"#C0_0_6f2fe15115\" y=\"251.425164\"/>\r\n    </g>\r\n    <g clip-path=\"url(#p08b5ab0062)\">\r\n     <use style=\"fill:#1f77b4;\" x=\"146.636655\" xlink:href=\"#C0_0_6f2fe15115\" y=\"208.646078\"/>\r\n    </g>\r\n    <g clip-path=\"url(#p08b5ab0062)\">\r\n     <use style=\"fill:#1f77b4;\" x=\"135.457767\" xlink:href=\"#C0_0_6f2fe15115\" y=\"154.544434\"/>\r\n    </g>\r\n    <g clip-path=\"url(#p08b5ab0062)\">\r\n     <use style=\"fill:#1f77b4;\" x=\"353.728539\" xlink:href=\"#C0_0_6f2fe15115\" y=\"35.937236\"/>\r\n    </g>\r\n    <g clip-path=\"url(#p08b5ab0062)\">\r\n     <use style=\"fill:#1f77b4;\" x=\"61.548085\" xlink:href=\"#C0_0_6f2fe15115\" y=\"218.280749\"/>\r\n    </g>\r\n    <g clip-path=\"url(#p08b5ab0062)\">\r\n     <use style=\"fill:#1f77b4;\" x=\"160.064382\" xlink:href=\"#C0_0_6f2fe15115\" y=\"184.596673\"/>\r\n    </g>\r\n    <g clip-path=\"url(#p08b5ab0062)\">\r\n     <use style=\"fill:#1f77b4;\" x=\"71.673562\" xlink:href=\"#C0_0_6f2fe15115\" y=\"262.949119\"/>\r\n    </g>\r\n    <g clip-path=\"url(#p08b5ab0062)\">\r\n     <use style=\"fill:#1f77b4;\" x=\"118.835582\" xlink:href=\"#C0_0_6f2fe15115\" y=\"128.779415\"/>\r\n    </g>\r\n    <g clip-path=\"url(#p08b5ab0062)\">\r\n     <use style=\"fill:#1f77b4;\" x=\"119.724247\" xlink:href=\"#C0_0_6f2fe15115\" y=\"192.146173\"/>\r\n    </g>\r\n    <g clip-path=\"url(#p08b5ab0062)\">\r\n     <use style=\"fill:#1f77b4;\" x=\"109.206859\" xlink:href=\"#C0_0_6f2fe15115\" y=\"112.313356\"/>\r\n    </g>\r\n    <g clip-path=\"url(#p08b5ab0062)\">\r\n     <use style=\"fill:#1f77b4;\" x=\"154.411338\" xlink:href=\"#C0_0_6f2fe15115\" y=\"155.23495\"/>\r\n    </g>\r\n    <g clip-path=\"url(#p08b5ab0062)\">\r\n     <use style=\"fill:#1f77b4;\" x=\"108.889972\" xlink:href=\"#C0_0_6f2fe15115\" y=\"171.158151\"/>\r\n    </g>\r\n    <g clip-path=\"url(#p08b5ab0062)\">\r\n     <use style=\"fill:#1f77b4;\" x=\"56.512938\" xlink:href=\"#C0_0_6f2fe15115\" y=\"212.324475\"/>\r\n    </g>\r\n    <g clip-path=\"url(#p08b5ab0062)\">\r\n     <use style=\"fill:#1f77b4;\" x=\"114.407205\" xlink:href=\"#C0_0_6f2fe15115\" y=\"142.172706\"/>\r\n    </g>\r\n    <g clip-path=\"url(#p08b5ab0062)\">\r\n     <use style=\"fill:#1f77b4;\" x=\"397.391847\" xlink:href=\"#C0_0_6f2fe15115\" y=\"37.531166\"/>\r\n    </g>\r\n    <g clip-path=\"url(#p08b5ab0062)\">\r\n     <use style=\"fill:#1f77b4;\" x=\"108.048075\" xlink:href=\"#C0_0_6f2fe15115\" y=\"160.04204\"/>\r\n    </g>\r\n    <g clip-path=\"url(#p08b5ab0062)\">\r\n     <use style=\"fill:#1f77b4;\" x=\"388.915636\" xlink:href=\"#C0_0_6f2fe15115\" y=\"25.835422\"/>\r\n    </g>\r\n    <g clip-path=\"url(#p08b5ab0062)\">\r\n     <use style=\"fill:#1f77b4;\" x=\"130.819954\" xlink:href=\"#C0_0_6f2fe15115\" y=\"181.366918\"/>\r\n    </g>\r\n    <g clip-path=\"url(#p08b5ab0062)\">\r\n     <use style=\"fill:#1f77b4;\" x=\"79.11546\" xlink:href=\"#C0_0_6f2fe15115\" y=\"187.135496\"/>\r\n    </g>\r\n    <g clip-path=\"url(#p08b5ab0062)\">\r\n     <use style=\"fill:#1f77b4;\" x=\"76.295639\" xlink:href=\"#C0_0_6f2fe15115\" y=\"152.843527\"/>\r\n    </g>\r\n    <g clip-path=\"url(#p08b5ab0062)\">\r\n     <use style=\"fill:#1f77b4;\" x=\"51.156339\" xlink:href=\"#C0_0_6f2fe15115\" y=\"242.843768\"/>\r\n    </g>\r\n    <g clip-path=\"url(#p08b5ab0062)\">\r\n     <use style=\"fill:#1f77b4;\" x=\"73.145602\" xlink:href=\"#C0_0_6f2fe15115\" y=\"173.448901\"/>\r\n    </g>\r\n    <g clip-path=\"url(#p08b5ab0062)\">\r\n     <use style=\"fill:#1f77b4;\" x=\"114.472574\" xlink:href=\"#C0_0_6f2fe15115\" y=\"180.629235\"/>\r\n    </g>\r\n    <g clip-path=\"url(#p08b5ab0062)\">\r\n     <use style=\"fill:#1f77b4;\" x=\"105.935506\" xlink:href=\"#C0_0_6f2fe15115\" y=\"127.614981\"/>\r\n    </g>\r\n    <g clip-path=\"url(#p08b5ab0062)\">\r\n     <use style=\"fill:#1f77b4;\" x=\"382.893281\" xlink:href=\"#C0_0_6f2fe15115\" y=\"34.548012\"/>\r\n    </g>\r\n    <g clip-path=\"url(#p08b5ab0062)\">\r\n     <use style=\"fill:#1f77b4;\" x=\"145.573286\" xlink:href=\"#C0_0_6f2fe15115\" y=\"139.807047\"/>\r\n    </g>\r\n    <g clip-path=\"url(#p08b5ab0062)\">\r\n     <use style=\"fill:#1f77b4;\" x=\"49.331387\" xlink:href=\"#C0_0_6f2fe15115\" y=\"138.215006\"/>\r\n    </g>\r\n    <g clip-path=\"url(#p08b5ab0062)\">\r\n     <use style=\"fill:#1f77b4;\" x=\"61.866349\" xlink:href=\"#C0_0_6f2fe15115\" y=\"253.561028\"/>\r\n    </g>\r\n    <g clip-path=\"url(#p08b5ab0062)\">\r\n     <use style=\"fill:#1f77b4;\" x=\"394.926039\" xlink:href=\"#C0_0_6f2fe15115\" y=\"26.676331\"/>\r\n    </g>\r\n    <g clip-path=\"url(#p08b5ab0062)\">\r\n     <use style=\"fill:#1f77b4;\" x=\"108.311452\" xlink:href=\"#C0_0_6f2fe15115\" y=\"207.45059\"/>\r\n    </g>\r\n    <g clip-path=\"url(#p08b5ab0062)\">\r\n     <use style=\"fill:#1f77b4;\" x=\"131.982705\" xlink:href=\"#C0_0_6f2fe15115\" y=\"135.503305\"/>\r\n    </g>\r\n    <g clip-path=\"url(#p08b5ab0062)\">\r\n     <use style=\"fill:#1f77b4;\" x=\"167.345598\" xlink:href=\"#C0_0_6f2fe15115\" y=\"197.333806\"/>\r\n    </g>\r\n    <g clip-path=\"url(#p08b5ab0062)\">\r\n     <use style=\"fill:#1f77b4;\" x=\"82.076663\" xlink:href=\"#C0_0_6f2fe15115\" y=\"265.580178\"/>\r\n    </g>\r\n    <g clip-path=\"url(#p08b5ab0062)\">\r\n     <use style=\"fill:#1f77b4;\" x=\"99.230241\" xlink:href=\"#C0_0_6f2fe15115\" y=\"182.879874\"/>\r\n    </g>\r\n    <g clip-path=\"url(#p08b5ab0062)\">\r\n     <use style=\"fill:#1f77b4;\" x=\"142.864499\" xlink:href=\"#C0_0_6f2fe15115\" y=\"129.648792\"/>\r\n    </g>\r\n    <g clip-path=\"url(#p08b5ab0062)\">\r\n     <use style=\"fill:#1f77b4;\" x=\"387.766383\" xlink:href=\"#C0_0_6f2fe15115\" y=\"29.530983\"/>\r\n    </g>\r\n    <g clip-path=\"url(#p08b5ab0062)\">\r\n     <use style=\"fill:#1f77b4;\" x=\"111.225244\" xlink:href=\"#C0_0_6f2fe15115\" y=\"135.477285\"/>\r\n    </g>\r\n    <g clip-path=\"url(#p08b5ab0062)\">\r\n     <use style=\"fill:#1f77b4;\" x=\"80.762182\" xlink:href=\"#C0_0_6f2fe15115\" y=\"111.374031\"/>\r\n    </g>\r\n    <g clip-path=\"url(#p08b5ab0062)\">\r\n     <use style=\"fill:#1f77b4;\" x=\"97.55271\" xlink:href=\"#C0_0_6f2fe15115\" y=\"193.180929\"/>\r\n    </g>\r\n    <g clip-path=\"url(#p08b5ab0062)\">\r\n     <use style=\"fill:#1f77b4;\" x=\"362.985696\" xlink:href=\"#C0_0_6f2fe15115\" y=\"33.835189\"/>\r\n    </g>\r\n    <g clip-path=\"url(#p08b5ab0062)\">\r\n     <use style=\"fill:#1f77b4;\" x=\"383.579022\" xlink:href=\"#C0_0_6f2fe15115\" y=\"22.203136\"/>\r\n    </g>\r\n    <g clip-path=\"url(#p08b5ab0062)\">\r\n     <use style=\"fill:#1f77b4;\" x=\"68.560682\" xlink:href=\"#C0_0_6f2fe15115\" y=\"246.994632\"/>\r\n    </g>\r\n    <g clip-path=\"url(#p08b5ab0062)\">\r\n     <use style=\"fill:#1f77b4;\" x=\"51.164136\" xlink:href=\"#C0_0_6f2fe15115\" y=\"209.616304\"/>\r\n    </g>\r\n    <g clip-path=\"url(#p08b5ab0062)\">\r\n     <use style=\"fill:#1f77b4;\" x=\"383.708691\" xlink:href=\"#C0_0_6f2fe15115\" y=\"38.063415\"/>\r\n    </g>\r\n    <g clip-path=\"url(#p08b5ab0062)\">\r\n     <use style=\"fill:#1f77b4;\" x=\"77.080543\" xlink:href=\"#C0_0_6f2fe15115\" y=\"227.794441\"/>\r\n    </g>\r\n    <g clip-path=\"url(#p08b5ab0062)\">\r\n     <use style=\"fill:#1f77b4;\" x=\"399.770455\" xlink:href=\"#C0_0_6f2fe15115\" y=\"31.832391\"/>\r\n    </g>\r\n    <g clip-path=\"url(#p08b5ab0062)\">\r\n     <use style=\"fill:#1f77b4;\" x=\"365.566775\" xlink:href=\"#C0_0_6f2fe15115\" y=\"43.973393\"/>\r\n    </g>\r\n    <g clip-path=\"url(#p08b5ab0062)\">\r\n     <use style=\"fill:#1f77b4;\" x=\"378.202186\" xlink:href=\"#C0_0_6f2fe15115\" y=\"43.902821\"/>\r\n    </g>\r\n    <g clip-path=\"url(#p08b5ab0062)\">\r\n     <use style=\"fill:#1f77b4;\" x=\"53.992011\" xlink:href=\"#C0_0_6f2fe15115\" y=\"249.182662\"/>\r\n    </g>\r\n    <g clip-path=\"url(#p08b5ab0062)\">\r\n     <use style=\"fill:#1f77b4;\" x=\"77.732446\" xlink:href=\"#C0_0_6f2fe15115\" y=\"142.858533\"/>\r\n    </g>\r\n    <g clip-path=\"url(#p08b5ab0062)\">\r\n     <use style=\"fill:#1f77b4;\" x=\"49.492287\" xlink:href=\"#C0_0_6f2fe15115\" y=\"232.598154\"/>\r\n    </g>\r\n    <g clip-path=\"url(#p08b5ab0062)\">\r\n     <use style=\"fill:#1f77b4;\" x=\"83.80661\" xlink:href=\"#C0_0_6f2fe15115\" y=\"254.601318\"/>\r\n    </g>\r\n    <g clip-path=\"url(#p08b5ab0062)\">\r\n     <use style=\"fill:#1f77b4;\" x=\"391.654002\" xlink:href=\"#C0_0_6f2fe15115\" y=\"38.954603\"/>\r\n    </g>\r\n    <g clip-path=\"url(#p08b5ab0062)\">\r\n     <use style=\"fill:#1f77b4;\" x=\"149.801353\" xlink:href=\"#C0_0_6f2fe15115\" y=\"151.492293\"/>\r\n    </g>\r\n    <g clip-path=\"url(#p08b5ab0062)\">\r\n     <use style=\"fill:#1f77b4;\" x=\"134.758498\" xlink:href=\"#C0_0_6f2fe15115\" y=\"126.934804\"/>\r\n    </g>\r\n    <g clip-path=\"url(#p08b5ab0062)\">\r\n     <use style=\"fill:#1f77b4;\" x=\"85.037399\" xlink:href=\"#C0_0_6f2fe15115\" y=\"265.252603\"/>\r\n    </g>\r\n    <g clip-path=\"url(#p08b5ab0062)\">\r\n     <use style=\"fill:#1f77b4;\" x=\"72.561286\" xlink:href=\"#C0_0_6f2fe15115\" y=\"196.33508\"/>\r\n    </g>\r\n    <g clip-path=\"url(#p08b5ab0062)\">\r\n     <use style=\"fill:#1f77b4;\" x=\"131.183143\" xlink:href=\"#C0_0_6f2fe15115\" y=\"190.823744\"/>\r\n    </g>\r\n    <g clip-path=\"url(#p08b5ab0062)\">\r\n     <use style=\"fill:#1f77b4;\" x=\"146.920356\" xlink:href=\"#C0_0_6f2fe15115\" y=\"205.164641\"/>\r\n    </g>\r\n    <g clip-path=\"url(#p08b5ab0062)\">\r\n     <use style=\"fill:#1f77b4;\" x=\"67.838313\" xlink:href=\"#C0_0_6f2fe15115\" y=\"211.632128\"/>\r\n    </g>\r\n    <g clip-path=\"url(#p08b5ab0062)\">\r\n     <use style=\"fill:#1f77b4;\" x=\"350.629056\" xlink:href=\"#C0_0_6f2fe15115\" y=\"42.80667\"/>\r\n    </g>\r\n    <g clip-path=\"url(#p08b5ab0062)\">\r\n     <use style=\"fill:#1f77b4;\" x=\"88.313063\" xlink:href=\"#C0_0_6f2fe15115\" y=\"197.550954\"/>\r\n    </g>\r\n    <g clip-path=\"url(#p08b5ab0062)\">\r\n     <use style=\"fill:#1f77b4;\" x=\"173.419201\" xlink:href=\"#C0_0_6f2fe15115\" y=\"189.741067\"/>\r\n    </g>\r\n    <g clip-path=\"url(#p08b5ab0062)\">\r\n     <use style=\"fill:#1f77b4;\" x=\"108.068692\" xlink:href=\"#C0_0_6f2fe15115\" y=\"184.844866\"/>\r\n    </g>\r\n    <g clip-path=\"url(#p08b5ab0062)\">\r\n     <use style=\"fill:#1f77b4;\" x=\"97.766942\" xlink:href=\"#C0_0_6f2fe15115\" y=\"177.943155\"/>\r\n    </g>\r\n    <g clip-path=\"url(#p08b5ab0062)\">\r\n     <use style=\"fill:#1f77b4;\" x=\"130.611836\" xlink:href=\"#C0_0_6f2fe15115\" y=\"205.603482\"/>\r\n    </g>\r\n    <g clip-path=\"url(#p08b5ab0062)\">\r\n     <use style=\"fill:#1f77b4;\" x=\"100.285525\" xlink:href=\"#C0_0_6f2fe15115\" y=\"167.662127\"/>\r\n    </g>\r\n    <g clip-path=\"url(#p08b5ab0062)\">\r\n     <use style=\"fill:#1f77b4;\" x=\"360.206799\" xlink:href=\"#C0_0_6f2fe15115\" y=\"37.740385\"/>\r\n    </g>\r\n    <g clip-path=\"url(#p08b5ab0062)\">\r\n     <use style=\"fill:#1f77b4;\" x=\"377.438607\" xlink:href=\"#C0_0_6f2fe15115\" y=\"30.450112\"/>\r\n    </g>\r\n    <g clip-path=\"url(#p08b5ab0062)\">\r\n     <use style=\"fill:#1f77b4;\" x=\"148.005239\" xlink:href=\"#C0_0_6f2fe15115\" y=\"159.880749\"/>\r\n    </g>\r\n    <g clip-path=\"url(#p08b5ab0062)\">\r\n     <use style=\"fill:#1f77b4;\" x=\"56.371135\" xlink:href=\"#C0_0_6f2fe15115\" y=\"145.863498\"/>\r\n    </g>\r\n    <g clip-path=\"url(#p08b5ab0062)\">\r\n     <use style=\"fill:#1f77b4;\" x=\"158.198505\" xlink:href=\"#C0_0_6f2fe15115\" y=\"198.620133\"/>\r\n    </g>\r\n    <g clip-path=\"url(#p08b5ab0062)\">\r\n     <use style=\"fill:#1f77b4;\" x=\"74.17996\" xlink:href=\"#C0_0_6f2fe15115\" y=\"269.294045\"/>\r\n    </g>\r\n   </g>\r\n   <g id=\"matplotlib.axis_1\">\r\n    <g id=\"xtick_1\">\r\n     <g id=\"line2d_1\">\r\n      <defs>\r\n       <path d=\"M 0 0 \r\nL 0 3.5 \r\n\" id=\"m0989ea8440\" style=\"stroke:#000000;stroke-width:0.8;\"/>\r\n      </defs>\r\n      <g>\r\n       <use style=\"stroke:#000000;stroke-width:0.8;\" x=\"40.175655\" xlink:href=\"#m0989ea8440\" y=\"281.648591\"/>\r\n      </g>\r\n     </g>\r\n     <g id=\"text_1\">\r\n      <!-- −5.0 -->\r\n      <defs>\r\n       <path d=\"M 10.59375 35.5 \r\nL 73.1875 35.5 \r\nL 73.1875 27.203125 \r\nL 10.59375 27.203125 \r\nz\r\n\" id=\"DejaVuSans-8722\"/>\r\n       <path d=\"M 10.796875 72.90625 \r\nL 49.515625 72.90625 \r\nL 49.515625 64.59375 \r\nL 19.828125 64.59375 \r\nL 19.828125 46.734375 \r\nQ 21.96875 47.46875 24.109375 47.828125 \r\nQ 26.265625 48.1875 28.421875 48.1875 \r\nQ 40.625 48.1875 47.75 41.5 \r\nQ 54.890625 34.8125 54.890625 23.390625 \r\nQ 54.890625 11.625 47.5625 5.09375 \r\nQ 40.234375 -1.421875 26.90625 -1.421875 \r\nQ 22.3125 -1.421875 17.546875 -0.640625 \r\nQ 12.796875 0.140625 7.71875 1.703125 \r\nL 7.71875 11.625 \r\nQ 12.109375 9.234375 16.796875 8.0625 \r\nQ 21.484375 6.890625 26.703125 6.890625 \r\nQ 35.15625 6.890625 40.078125 11.328125 \r\nQ 45.015625 15.765625 45.015625 23.390625 \r\nQ 45.015625 31 40.078125 35.4375 \r\nQ 35.15625 39.890625 26.703125 39.890625 \r\nQ 22.75 39.890625 18.8125 39.015625 \r\nQ 14.890625 38.140625 10.796875 36.28125 \r\nz\r\n\" id=\"DejaVuSans-53\"/>\r\n       <path d=\"M 10.6875 12.40625 \r\nL 21 12.40625 \r\nL 21 0 \r\nL 10.6875 0 \r\nz\r\n\" id=\"DejaVuSans-46\"/>\r\n       <path d=\"M 31.78125 66.40625 \r\nQ 24.171875 66.40625 20.328125 58.90625 \r\nQ 16.5 51.421875 16.5 36.375 \r\nQ 16.5 21.390625 20.328125 13.890625 \r\nQ 24.171875 6.390625 31.78125 6.390625 \r\nQ 39.453125 6.390625 43.28125 13.890625 \r\nQ 47.125 21.390625 47.125 36.375 \r\nQ 47.125 51.421875 43.28125 58.90625 \r\nQ 39.453125 66.40625 31.78125 66.40625 \r\nz\r\nM 31.78125 74.21875 \r\nQ 44.046875 74.21875 50.515625 64.515625 \r\nQ 56.984375 54.828125 56.984375 36.375 \r\nQ 56.984375 17.96875 50.515625 8.265625 \r\nQ 44.046875 -1.421875 31.78125 -1.421875 \r\nQ 19.53125 -1.421875 13.0625 8.265625 \r\nQ 6.59375 17.96875 6.59375 36.375 \r\nQ 6.59375 54.828125 13.0625 64.515625 \r\nQ 19.53125 74.21875 31.78125 74.21875 \r\nz\r\n\" id=\"DejaVuSans-48\"/>\r\n      </defs>\r\n      <g transform=\"translate(28.034249 296.247028)scale(0.1 -0.1)\">\r\n       <use xlink:href=\"#DejaVuSans-8722\"/>\r\n       <use x=\"83.789062\" xlink:href=\"#DejaVuSans-53\"/>\r\n       <use x=\"147.412109\" xlink:href=\"#DejaVuSans-46\"/>\r\n       <use x=\"179.199219\" xlink:href=\"#DejaVuSans-48\"/>\r\n      </g>\r\n     </g>\r\n    </g>\r\n    <g id=\"xtick_2\">\r\n     <g id=\"line2d_2\">\r\n      <g>\r\n       <use style=\"stroke:#000000;stroke-width:0.8;\" x=\"87.650375\" xlink:href=\"#m0989ea8440\" y=\"281.648591\"/>\r\n      </g>\r\n     </g>\r\n     <g id=\"text_2\">\r\n      <!-- −2.5 -->\r\n      <defs>\r\n       <path d=\"M 19.1875 8.296875 \r\nL 53.609375 8.296875 \r\nL 53.609375 0 \r\nL 7.328125 0 \r\nL 7.328125 8.296875 \r\nQ 12.9375 14.109375 22.625 23.890625 \r\nQ 32.328125 33.6875 34.8125 36.53125 \r\nQ 39.546875 41.84375 41.421875 45.53125 \r\nQ 43.3125 49.21875 43.3125 52.78125 \r\nQ 43.3125 58.59375 39.234375 62.25 \r\nQ 35.15625 65.921875 28.609375 65.921875 \r\nQ 23.96875 65.921875 18.8125 64.3125 \r\nQ 13.671875 62.703125 7.8125 59.421875 \r\nL 7.8125 69.390625 \r\nQ 13.765625 71.78125 18.9375 73 \r\nQ 24.125 74.21875 28.421875 74.21875 \r\nQ 39.75 74.21875 46.484375 68.546875 \r\nQ 53.21875 62.890625 53.21875 53.421875 \r\nQ 53.21875 48.921875 51.53125 44.890625 \r\nQ 49.859375 40.875 45.40625 35.40625 \r\nQ 44.1875 33.984375 37.640625 27.21875 \r\nQ 31.109375 20.453125 19.1875 8.296875 \r\nz\r\n\" id=\"DejaVuSans-50\"/>\r\n      </defs>\r\n      <g transform=\"translate(75.508969 296.247028)scale(0.1 -0.1)\">\r\n       <use xlink:href=\"#DejaVuSans-8722\"/>\r\n       <use x=\"83.789062\" xlink:href=\"#DejaVuSans-50\"/>\r\n       <use x=\"147.412109\" xlink:href=\"#DejaVuSans-46\"/>\r\n       <use x=\"179.199219\" xlink:href=\"#DejaVuSans-53\"/>\r\n      </g>\r\n     </g>\r\n    </g>\r\n    <g id=\"xtick_3\">\r\n     <g id=\"line2d_3\">\r\n      <g>\r\n       <use style=\"stroke:#000000;stroke-width:0.8;\" x=\"135.125095\" xlink:href=\"#m0989ea8440\" y=\"281.648591\"/>\r\n      </g>\r\n     </g>\r\n     <g id=\"text_3\">\r\n      <!-- 0.0 -->\r\n      <g transform=\"translate(127.173533 296.247028)scale(0.1 -0.1)\">\r\n       <use xlink:href=\"#DejaVuSans-48\"/>\r\n       <use x=\"63.623047\" xlink:href=\"#DejaVuSans-46\"/>\r\n       <use x=\"95.410156\" xlink:href=\"#DejaVuSans-48\"/>\r\n      </g>\r\n     </g>\r\n    </g>\r\n    <g id=\"xtick_4\">\r\n     <g id=\"line2d_4\">\r\n      <g>\r\n       <use style=\"stroke:#000000;stroke-width:0.8;\" x=\"182.599816\" xlink:href=\"#m0989ea8440\" y=\"281.648591\"/>\r\n      </g>\r\n     </g>\r\n     <g id=\"text_4\">\r\n      <!-- 2.5 -->\r\n      <g transform=\"translate(174.648253 296.247028)scale(0.1 -0.1)\">\r\n       <use xlink:href=\"#DejaVuSans-50\"/>\r\n       <use x=\"63.623047\" xlink:href=\"#DejaVuSans-46\"/>\r\n       <use x=\"95.410156\" xlink:href=\"#DejaVuSans-53\"/>\r\n      </g>\r\n     </g>\r\n    </g>\r\n    <g id=\"xtick_5\">\r\n     <g id=\"line2d_5\">\r\n      <g>\r\n       <use style=\"stroke:#000000;stroke-width:0.8;\" x=\"230.074536\" xlink:href=\"#m0989ea8440\" y=\"281.648591\"/>\r\n      </g>\r\n     </g>\r\n     <g id=\"text_5\">\r\n      <!-- 5.0 -->\r\n      <g transform=\"translate(222.122973 296.247028)scale(0.1 -0.1)\">\r\n       <use xlink:href=\"#DejaVuSans-53\"/>\r\n       <use x=\"63.623047\" xlink:href=\"#DejaVuSans-46\"/>\r\n       <use x=\"95.410156\" xlink:href=\"#DejaVuSans-48\"/>\r\n      </g>\r\n     </g>\r\n    </g>\r\n    <g id=\"xtick_6\">\r\n     <g id=\"line2d_6\">\r\n      <g>\r\n       <use style=\"stroke:#000000;stroke-width:0.8;\" x=\"277.549256\" xlink:href=\"#m0989ea8440\" y=\"281.648591\"/>\r\n      </g>\r\n     </g>\r\n     <g id=\"text_6\">\r\n      <!-- 7.5 -->\r\n      <defs>\r\n       <path d=\"M 8.203125 72.90625 \r\nL 55.078125 72.90625 \r\nL 55.078125 68.703125 \r\nL 28.609375 0 \r\nL 18.3125 0 \r\nL 43.21875 64.59375 \r\nL 8.203125 64.59375 \r\nz\r\n\" id=\"DejaVuSans-55\"/>\r\n      </defs>\r\n      <g transform=\"translate(269.597693 296.247028)scale(0.1 -0.1)\">\r\n       <use xlink:href=\"#DejaVuSans-55\"/>\r\n       <use x=\"63.623047\" xlink:href=\"#DejaVuSans-46\"/>\r\n       <use x=\"95.410156\" xlink:href=\"#DejaVuSans-53\"/>\r\n      </g>\r\n     </g>\r\n    </g>\r\n    <g id=\"xtick_7\">\r\n     <g id=\"line2d_7\">\r\n      <g>\r\n       <use style=\"stroke:#000000;stroke-width:0.8;\" x=\"325.023976\" xlink:href=\"#m0989ea8440\" y=\"281.648591\"/>\r\n      </g>\r\n     </g>\r\n     <g id=\"text_7\">\r\n      <!-- 10.0 -->\r\n      <defs>\r\n       <path d=\"M 12.40625 8.296875 \r\nL 28.515625 8.296875 \r\nL 28.515625 63.921875 \r\nL 10.984375 60.40625 \r\nL 10.984375 69.390625 \r\nL 28.421875 72.90625 \r\nL 38.28125 72.90625 \r\nL 38.28125 8.296875 \r\nL 54.390625 8.296875 \r\nL 54.390625 0 \r\nL 12.40625 0 \r\nz\r\n\" id=\"DejaVuSans-49\"/>\r\n      </defs>\r\n      <g transform=\"translate(313.891163 296.247028)scale(0.1 -0.1)\">\r\n       <use xlink:href=\"#DejaVuSans-49\"/>\r\n       <use x=\"63.623047\" xlink:href=\"#DejaVuSans-48\"/>\r\n       <use x=\"127.246094\" xlink:href=\"#DejaVuSans-46\"/>\r\n       <use x=\"159.033203\" xlink:href=\"#DejaVuSans-48\"/>\r\n      </g>\r\n     </g>\r\n    </g>\r\n    <g id=\"xtick_8\">\r\n     <g id=\"line2d_8\">\r\n      <g>\r\n       <use style=\"stroke:#000000;stroke-width:0.8;\" x=\"372.498696\" xlink:href=\"#m0989ea8440\" y=\"281.648591\"/>\r\n      </g>\r\n     </g>\r\n     <g id=\"text_8\">\r\n      <!-- 12.5 -->\r\n      <g transform=\"translate(361.365883 296.247028)scale(0.1 -0.1)\">\r\n       <use xlink:href=\"#DejaVuSans-49\"/>\r\n       <use x=\"63.623047\" xlink:href=\"#DejaVuSans-50\"/>\r\n       <use x=\"127.246094\" xlink:href=\"#DejaVuSans-46\"/>\r\n       <use x=\"159.033203\" xlink:href=\"#DejaVuSans-53\"/>\r\n      </g>\r\n     </g>\r\n    </g>\r\n   </g>\r\n   <g id=\"matplotlib.axis_2\">\r\n    <g id=\"ytick_1\">\r\n     <g id=\"line2d_9\">\r\n      <defs>\r\n       <path d=\"M 0 0 \r\nL -3.5 0 \r\n\" id=\"m59c0b7c6ec\" style=\"stroke:#000000;stroke-width:0.8;\"/>\r\n      </defs>\r\n      <g>\r\n       <use style=\"stroke:#000000;stroke-width:0.8;\" x=\"26.925\" xlink:href=\"#m59c0b7c6ec\" y=\"279.479473\"/>\r\n      </g>\r\n     </g>\r\n     <g id=\"text_9\">\r\n      <!-- 2 -->\r\n      <g transform=\"translate(13.5625 283.278692)scale(0.1 -0.1)\">\r\n       <use xlink:href=\"#DejaVuSans-50\"/>\r\n      </g>\r\n     </g>\r\n    </g>\r\n    <g id=\"ytick_2\">\r\n     <g id=\"line2d_10\">\r\n      <g>\r\n       <use style=\"stroke:#000000;stroke-width:0.8;\" x=\"26.925\" xlink:href=\"#m59c0b7c6ec\" y=\"245.919441\"/>\r\n      </g>\r\n     </g>\r\n     <g id=\"text_10\">\r\n      <!-- 4 -->\r\n      <defs>\r\n       <path d=\"M 37.796875 64.3125 \r\nL 12.890625 25.390625 \r\nL 37.796875 25.390625 \r\nz\r\nM 35.203125 72.90625 \r\nL 47.609375 72.90625 \r\nL 47.609375 25.390625 \r\nL 58.015625 25.390625 \r\nL 58.015625 17.1875 \r\nL 47.609375 17.1875 \r\nL 47.609375 0 \r\nL 37.796875 0 \r\nL 37.796875 17.1875 \r\nL 4.890625 17.1875 \r\nL 4.890625 26.703125 \r\nz\r\n\" id=\"DejaVuSans-52\"/>\r\n      </defs>\r\n      <g transform=\"translate(13.5625 249.71866)scale(0.1 -0.1)\">\r\n       <use xlink:href=\"#DejaVuSans-52\"/>\r\n      </g>\r\n     </g>\r\n    </g>\r\n    <g id=\"ytick_3\">\r\n     <g id=\"line2d_11\">\r\n      <g>\r\n       <use style=\"stroke:#000000;stroke-width:0.8;\" x=\"26.925\" xlink:href=\"#m59c0b7c6ec\" y=\"212.359409\"/>\r\n      </g>\r\n     </g>\r\n     <g id=\"text_11\">\r\n      <!-- 6 -->\r\n      <defs>\r\n       <path d=\"M 33.015625 40.375 \r\nQ 26.375 40.375 22.484375 35.828125 \r\nQ 18.609375 31.296875 18.609375 23.390625 \r\nQ 18.609375 15.53125 22.484375 10.953125 \r\nQ 26.375 6.390625 33.015625 6.390625 \r\nQ 39.65625 6.390625 43.53125 10.953125 \r\nQ 47.40625 15.53125 47.40625 23.390625 \r\nQ 47.40625 31.296875 43.53125 35.828125 \r\nQ 39.65625 40.375 33.015625 40.375 \r\nz\r\nM 52.59375 71.296875 \r\nL 52.59375 62.3125 \r\nQ 48.875 64.0625 45.09375 64.984375 \r\nQ 41.3125 65.921875 37.59375 65.921875 \r\nQ 27.828125 65.921875 22.671875 59.328125 \r\nQ 17.53125 52.734375 16.796875 39.40625 \r\nQ 19.671875 43.65625 24.015625 45.921875 \r\nQ 28.375 48.1875 33.59375 48.1875 \r\nQ 44.578125 48.1875 50.953125 41.515625 \r\nQ 57.328125 34.859375 57.328125 23.390625 \r\nQ 57.328125 12.15625 50.6875 5.359375 \r\nQ 44.046875 -1.421875 33.015625 -1.421875 \r\nQ 20.359375 -1.421875 13.671875 8.265625 \r\nQ 6.984375 17.96875 6.984375 36.375 \r\nQ 6.984375 53.65625 15.1875 63.9375 \r\nQ 23.390625 74.21875 37.203125 74.21875 \r\nQ 40.921875 74.21875 44.703125 73.484375 \r\nQ 48.484375 72.75 52.59375 71.296875 \r\nz\r\n\" id=\"DejaVuSans-54\"/>\r\n      </defs>\r\n      <g transform=\"translate(13.5625 216.158628)scale(0.1 -0.1)\">\r\n       <use xlink:href=\"#DejaVuSans-54\"/>\r\n      </g>\r\n     </g>\r\n    </g>\r\n    <g id=\"ytick_4\">\r\n     <g id=\"line2d_12\">\r\n      <g>\r\n       <use style=\"stroke:#000000;stroke-width:0.8;\" x=\"26.925\" xlink:href=\"#m59c0b7c6ec\" y=\"178.799378\"/>\r\n      </g>\r\n     </g>\r\n     <g id=\"text_12\">\r\n      <!-- 8 -->\r\n      <defs>\r\n       <path d=\"M 31.78125 34.625 \r\nQ 24.75 34.625 20.71875 30.859375 \r\nQ 16.703125 27.09375 16.703125 20.515625 \r\nQ 16.703125 13.921875 20.71875 10.15625 \r\nQ 24.75 6.390625 31.78125 6.390625 \r\nQ 38.8125 6.390625 42.859375 10.171875 \r\nQ 46.921875 13.96875 46.921875 20.515625 \r\nQ 46.921875 27.09375 42.890625 30.859375 \r\nQ 38.875 34.625 31.78125 34.625 \r\nz\r\nM 21.921875 38.8125 \r\nQ 15.578125 40.375 12.03125 44.71875 \r\nQ 8.5 49.078125 8.5 55.328125 \r\nQ 8.5 64.0625 14.71875 69.140625 \r\nQ 20.953125 74.21875 31.78125 74.21875 \r\nQ 42.671875 74.21875 48.875 69.140625 \r\nQ 55.078125 64.0625 55.078125 55.328125 \r\nQ 55.078125 49.078125 51.53125 44.71875 \r\nQ 48 40.375 41.703125 38.8125 \r\nQ 48.828125 37.15625 52.796875 32.3125 \r\nQ 56.78125 27.484375 56.78125 20.515625 \r\nQ 56.78125 9.90625 50.3125 4.234375 \r\nQ 43.84375 -1.421875 31.78125 -1.421875 \r\nQ 19.734375 -1.421875 13.25 4.234375 \r\nQ 6.78125 9.90625 6.78125 20.515625 \r\nQ 6.78125 27.484375 10.78125 32.3125 \r\nQ 14.796875 37.15625 21.921875 38.8125 \r\nz\r\nM 18.3125 54.390625 \r\nQ 18.3125 48.734375 21.84375 45.5625 \r\nQ 25.390625 42.390625 31.78125 42.390625 \r\nQ 38.140625 42.390625 41.71875 45.5625 \r\nQ 45.3125 48.734375 45.3125 54.390625 \r\nQ 45.3125 60.0625 41.71875 63.234375 \r\nQ 38.140625 66.40625 31.78125 66.40625 \r\nQ 25.390625 66.40625 21.84375 63.234375 \r\nQ 18.3125 60.0625 18.3125 54.390625 \r\nz\r\n\" id=\"DejaVuSans-56\"/>\r\n      </defs>\r\n      <g transform=\"translate(13.5625 182.598596)scale(0.1 -0.1)\">\r\n       <use xlink:href=\"#DejaVuSans-56\"/>\r\n      </g>\r\n     </g>\r\n    </g>\r\n    <g id=\"ytick_5\">\r\n     <g id=\"line2d_13\">\r\n      <g>\r\n       <use style=\"stroke:#000000;stroke-width:0.8;\" x=\"26.925\" xlink:href=\"#m59c0b7c6ec\" y=\"145.239346\"/>\r\n      </g>\r\n     </g>\r\n     <g id=\"text_13\">\r\n      <!-- 10 -->\r\n      <g transform=\"translate(7.2 149.038565)scale(0.1 -0.1)\">\r\n       <use xlink:href=\"#DejaVuSans-49\"/>\r\n       <use x=\"63.623047\" xlink:href=\"#DejaVuSans-48\"/>\r\n      </g>\r\n     </g>\r\n    </g>\r\n    <g id=\"ytick_6\">\r\n     <g id=\"line2d_14\">\r\n      <g>\r\n       <use style=\"stroke:#000000;stroke-width:0.8;\" x=\"26.925\" xlink:href=\"#m59c0b7c6ec\" y=\"111.679314\"/>\r\n      </g>\r\n     </g>\r\n     <g id=\"text_14\">\r\n      <!-- 12 -->\r\n      <g transform=\"translate(7.2 115.478533)scale(0.1 -0.1)\">\r\n       <use xlink:href=\"#DejaVuSans-49\"/>\r\n       <use x=\"63.623047\" xlink:href=\"#DejaVuSans-50\"/>\r\n      </g>\r\n     </g>\r\n    </g>\r\n    <g id=\"ytick_7\">\r\n     <g id=\"line2d_15\">\r\n      <g>\r\n       <use style=\"stroke:#000000;stroke-width:0.8;\" x=\"26.925\" xlink:href=\"#m59c0b7c6ec\" y=\"78.119282\"/>\r\n      </g>\r\n     </g>\r\n     <g id=\"text_15\">\r\n      <!-- 14 -->\r\n      <g transform=\"translate(7.2 81.918501)scale(0.1 -0.1)\">\r\n       <use xlink:href=\"#DejaVuSans-49\"/>\r\n       <use x=\"63.623047\" xlink:href=\"#DejaVuSans-52\"/>\r\n      </g>\r\n     </g>\r\n    </g>\r\n    <g id=\"ytick_8\">\r\n     <g id=\"line2d_16\">\r\n      <g>\r\n       <use style=\"stroke:#000000;stroke-width:0.8;\" x=\"26.925\" xlink:href=\"#m59c0b7c6ec\" y=\"44.559251\"/>\r\n      </g>\r\n     </g>\r\n     <g id=\"text_16\">\r\n      <!-- 16 -->\r\n      <g transform=\"translate(7.2 48.358469)scale(0.1 -0.1)\">\r\n       <use xlink:href=\"#DejaVuSans-49\"/>\r\n       <use x=\"63.623047\" xlink:href=\"#DejaVuSans-54\"/>\r\n      </g>\r\n     </g>\r\n    </g>\r\n    <g id=\"ytick_9\">\r\n     <g id=\"line2d_17\">\r\n      <g>\r\n       <use style=\"stroke:#000000;stroke-width:0.8;\" x=\"26.925\" xlink:href=\"#m59c0b7c6ec\" y=\"10.999219\"/>\r\n      </g>\r\n     </g>\r\n     <g id=\"text_17\">\r\n      <!-- 18 -->\r\n      <g transform=\"translate(7.2 14.798438)scale(0.1 -0.1)\">\r\n       <use xlink:href=\"#DejaVuSans-49\"/>\r\n       <use x=\"63.623047\" xlink:href=\"#DejaVuSans-56\"/>\r\n      </g>\r\n     </g>\r\n    </g>\r\n   </g>\r\n   <g id=\"patch_3\">\r\n    <path d=\"M 26.925 281.648591 \r\nL 26.925 9.848591 \r\n\" style=\"fill:none;stroke:#000000;stroke-linecap:square;stroke-linejoin:miter;stroke-width:0.8;\"/>\r\n   </g>\r\n   <g id=\"patch_4\">\r\n    <path d=\"M 417.525 281.648591 \r\nL 417.525 9.848591 \r\n\" style=\"fill:none;stroke:#000000;stroke-linecap:square;stroke-linejoin:miter;stroke-width:0.8;\"/>\r\n   </g>\r\n   <g id=\"patch_5\">\r\n    <path d=\"M 26.925 281.648591 \r\nL 417.525 281.648591 \r\n\" style=\"fill:none;stroke:#000000;stroke-linecap:square;stroke-linejoin:miter;stroke-width:0.8;\"/>\r\n   </g>\r\n   <g id=\"patch_6\">\r\n    <path d=\"M 26.925 9.848591 \r\nL 417.525 9.848591 \r\n\" style=\"fill:none;stroke:#000000;stroke-linecap:square;stroke-linejoin:miter;stroke-width:0.8;\"/>\r\n   </g>\r\n  </g>\r\n </g>\r\n <defs>\r\n  <clipPath id=\"p08b5ab0062\">\r\n   <rect height=\"271.8\" width=\"390.6\" x=\"26.925\" y=\"9.848591\"/>\r\n  </clipPath>\r\n </defs>\r\n</svg>\r\n",
      "image/png": "[encoded data removed]"
     },
     "metadata": {
      "needs_background": "light"
     }
    }
   ],
   "source": [
    "umap_para = {'n_neighbors': 10, 'min_dist': 0.5, 'random_state': 12}\n",
    "umap_paint(X_topics, umap_para)"
   ]
  },
  {
   "source": [
    "# lsa-ENRs处理"
   ],
   "cell_type": "markdown",
   "metadata": {}
  },
  {
   "cell_type": "code",
   "execution_count": 8,
   "metadata": {},
   "outputs": [],
   "source": [
    "vec_enr_para = {'token_pattern': r\"(?u)\\b\\w+\\b\", 'max_features': 1000, 'ngram_range': (1, 1)}\n",
    "lsa_enr_para = {'n_components': 2, 'algorithm': 'randomized', 'n_iter': 100, 'random_state': 122}\n",
    "\n",
    "pipe_enr = Pipe(stop_words_path, pattern, vec_enr_para, lsa_enr_para, userdict)\n",
    "token_enr, X_topics_enr, coordinates_enr, terms_enr = pipe_enr.invoke(data[data['review_title'] == \"不推荐\"][\"text_content\"])"
   ]
  },
  {
   "cell_type": "code",
   "execution_count": 9,
   "metadata": {},
   "outputs": [
    {
     "output_type": "execute_result",
     "data": {
      "text/plain": [
       "(40, 2)"
      ]
     },
     "metadata": {},
     "execution_count": 9
    }
   ],
   "source": [
    "coordinates_enr.shape"
   ]
  },
  {
   "cell_type": "code",
   "execution_count": 10,
   "metadata": {},
   "outputs": [
    {
     "output_type": "stream",
     "name": "stdout",
     "text": [
      "Topic 0: \n游戏 还 不 客服 玩 账号 玩家 \nTopic 1: \n仿佛 杀 态度 客服 妈 亲妈 傻逼 \n"
     ]
    }
   ],
   "source": [
    "ouput_topic(terms_enr, pipe_enr.filters[4].svd_model.components_, n=7)"
   ]
  },
  {
   "source": [
    "# lsa-EPRs处理"
   ],
   "cell_type": "markdown",
   "metadata": {}
  },
  {
   "cell_type": "code",
   "execution_count": 11,
   "metadata": {},
   "outputs": [],
   "source": [
    "vec_epr_para = {'token_pattern': r\"(?u)\\b\\w+\\b\", 'max_features': 1000, 'ngram_range': (1, 1)}\n",
    "lsa_epr_para = {'n_components': 2, 'algorithm': 'randomized', 'n_iter': 100, 'random_state': 122}\n",
    "pipe_epr = Pipe(stop_words_path, pattern, vec_epr_para, lsa_epr_para, userdict)\n",
    "token_epr, X_topics_epr, coordinates_epr, terms_epr = pipe_epr.invoke(data[data['review_title'] == \"推荐\"][\"text_content\"])"
   ]
  },
  {
   "cell_type": "code",
   "execution_count": 12,
   "metadata": {},
   "outputs": [
    {
     "output_type": "execute_result",
     "data": {
      "text/plain": [
       "(66, 2)"
      ]
     },
     "metadata": {},
     "execution_count": 12
    }
   ],
   "source": [
    "coordinates_epr.shape"
   ]
  },
  {
   "cell_type": "code",
   "execution_count": 13,
   "metadata": {},
   "outputs": [
    {
     "output_type": "stream",
     "name": "stdout",
     "text": [
      "Topic 0: \n游戏 经典 老 海战 玩 玩家 免费 \nTopic 1: \n经典 延续 传世 永远 游戏性 感谢 典型 \n"
     ]
    }
   ],
   "source": [
    "ouput_topic(terms_epr, pipe_epr.filters[4].svd_model.components_, n=7)"
   ]
  },
  {
   "source": [
    "# tobit结果"
   ],
   "cell_type": "markdown",
   "metadata": {}
  },
  {
   "source": [
    "## enr"
   ],
   "cell_type": "markdown",
   "metadata": {}
  },
  {
   "cell_type": "code",
   "execution_count": 14,
   "metadata": {},
   "outputs": [],
   "source": [
    "tr_enr = TobitModel()\n",
    "x_enr, y_enr, cens_enr = convert_tobit_data(coordinates_enr, data[data['review_title'] == \"不推荐\"][\"helpfulness\"])\n",
    "result_enr = tr_enr.fit(x_enr, y_enr, cens_enr, verbose=False)"
   ]
  },
  {
   "cell_type": "code",
   "execution_count": 15,
   "metadata": {},
   "outputs": [
    {
     "output_type": "execute_result",
     "data": {
      "text/plain": [
       "array([34.41922092, 12.94886972])"
      ]
     },
     "metadata": {},
     "execution_count": 15
    }
   ],
   "source": [
    "result_enr.coef_"
   ]
  },
  {
   "source": [
    "## epr"
   ],
   "cell_type": "markdown",
   "metadata": {}
  },
  {
   "cell_type": "code",
   "execution_count": 16,
   "metadata": {},
   "outputs": [],
   "source": [
    "tr_epr = TobitModel()\n",
    "x_epr, y_epr, cens_epr = convert_tobit_data(coordinates_epr, data[data['review_title'] == \"推荐\"][\"helpfulness\"])\n",
    "result_epr = tr_epr.fit(x_epr, y_epr, cens_epr, verbose=False)"
   ]
  },
  {
   "cell_type": "code",
   "execution_count": 17,
   "metadata": {},
   "outputs": [
    {
     "output_type": "execute_result",
     "data": {
      "text/plain": [
       "array([ 39.92214164, -20.06765519])"
      ]
     },
     "metadata": {},
     "execution_count": 17
    }
   ],
   "source": [
    "result_epr.coef_"
   ]
  },
  {
   "source": [
    "# classification + regression\n",
    "对于enr/epr数据，分别先用分类模型将推荐数为0和大于0的数据分开，再对推荐数大于0的数据使用回归模型进行预测"
   ],
   "cell_type": "markdown",
   "metadata": {}
  }
 ]
}